{
 "cells": [
  {
   "cell_type": "code",
   "execution_count": 4,
   "metadata": {},
   "outputs": [],
   "source": [
    "list =[2,33,4,4]"
   ]
  },
  {
   "cell_type": "code",
   "execution_count": 2,
   "metadata": {},
   "outputs": [],
   "source": [
    "largest_num = -1"
   ]
  },
  {
   "cell_type": "code",
   "execution_count": 5,
   "metadata": {},
   "outputs": [
    {
     "name": "stdout",
     "output_type": "stream",
     "text": [
      "33\n"
     ]
    }
   ],
   "source": [
    "# we are learning smart loops\n",
    "# find the highest number in the loop\n",
    "\n",
    "for i in list:\n",
    "    if i > largest_num:\n",
    "        largest_num = i\n",
    "        print(i)"
   ]
  },
  {
   "cell_type": "code",
   "execution_count": 9,
   "metadata": {},
   "outputs": [
    {
     "name": "stdout",
     "output_type": "stream",
     "text": [
      "2\n"
     ]
    }
   ],
   "source": [
    "#find the lowest number in the loop\n",
    "smallest = None\n",
    "for i in list:\n",
    "    if smallest is None or i < smallest:\n",
    "        smallest =  i\n",
    "        print(smallest)"
   ]
  },
  {
   "cell_type": "code",
   "execution_count": 11,
   "metadata": {},
   "outputs": [
    {
     "name": "stdout",
     "output_type": "stream",
     "text": [
      "1 orange\n",
      "2 lime\n",
      "3 apple\n",
      "4 pineapple\n"
     ]
    }
   ],
   "source": [
    "#counting in a loop\n",
    "# to count how many times we execute a loop , we introduce a counter variabe that ?\n",
    "# that starts at 0 and we add one to it each time through the loop\n",
    "count = 0\n",
    "fruits = ['orange', 'lime', 'apple','pineapple']\n",
    "for fruit in fruits:\n",
    "    count +=1\n",
    "    print(count , fruit)\n"
   ]
  },
  {
   "cell_type": "code",
   "execution_count": 13,
   "metadata": {},
   "outputs": [
    {
     "name": "stdout",
     "output_type": "stream",
     "text": [
      "20 20\n",
      "20 40\n",
      "344 384\n",
      "2344 2728\n",
      "22 2750\n"
     ]
    }
   ],
   "source": [
    "##summing values in a loop\n",
    "scores = [20,20,344,2344,22]\n",
    "total = 0\n",
    "count = 0\n",
    "for score in scores:\n",
    "    total += score\n",
    "    count += 1\n",
    "    print( count ,score, total)\n"
   ]
  },
  {
   "cell_type": "code",
   "execution_count": 25,
   "metadata": {},
   "outputs": [
    {
     "name": "stdout",
     "output_type": "stream",
     "text": [
      "Before 0 0\n",
      "1 20\n",
      "2 40\n",
      "3 384\n",
      "4 2728\n",
      "5 2750\n",
      "count = 5 ,sum = 2750 avg =  550.000000  \n"
     ]
    }
   ],
   "source": [
    "#finding the average in a loop\n",
    "count = 0\n",
    "sum = 0\n",
    "print('Before',count, sum)\n",
    "for score in scores:\n",
    "    count += 1\n",
    "    sum += score\n",
    "    print (count, sum )\n",
    "avg = sum/count\n",
    "print('count = %s ,sum = %d avg =  %f  '%(count, sum, avg ))"
   ]
  },
  {
   "cell_type": "code",
   "execution_count": 26,
   "metadata": {},
   "outputs": [
    {
     "name": "stdout",
     "output_type": "stream",
     "text": [
      "Before\n",
      "Score below 100 20\n",
      "Score below 100 20\n",
      "Score below 100 22\n",
      "After\n"
     ]
    }
   ],
   "source": [
    "#filtering in a loop\n",
    "#we use an if statement in the loop to catch/filter the values we are looking for.\n",
    "print('Before')\n",
    "for value in scores :\n",
    "    if value < 100:\n",
    "        print('Score below 100 are', value)\n",
    "print('After')"
   ]
  },
  {
   "cell_type": "code",
   "execution_count": null,
   "metadata": {},
   "outputs": [],
   "source": [
    "# I want to know if a particular value is there\n",
    "# search using a boolean varaiable\n",
    "found = False\n",
    "for value in scores:\n",
    "    if value == 20:\n",
    "        found = True\n",
    "        print('yes the value %s is in scores '%value)"
   ]
  },
  {
   "cell_type": "code",
   "execution_count": null,
   "metadata": {},
   "outputs": [],
   "source": []
  }
 ],
 "metadata": {
  "kernelspec": {
   "display_name": "Python 3",
   "language": "python",
   "name": "python3"
  },
  "language_info": {
   "codemirror_mode": {
    "name": "ipython",
    "version": 3
   },
   "file_extension": ".py",
   "mimetype": "text/x-python",
   "name": "python",
   "nbconvert_exporter": "python",
   "pygments_lexer": "ipython3",
   "version": "3.8.5"
  }
 },
 "nbformat": 4,
 "nbformat_minor": 4
}
